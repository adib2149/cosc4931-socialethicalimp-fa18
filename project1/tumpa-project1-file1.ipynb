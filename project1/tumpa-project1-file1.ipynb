{
 "cells": [
  {
   "cell_type": "code",
   "execution_count": 1,
   "metadata": {},
   "outputs": [
    {
     "name": "stderr",
     "output_type": "stream",
     "text": [
      "/anaconda3/lib/python3.6/site-packages/psycopg2/__init__.py:144: UserWarning: The psycopg2 wheel package will be renamed from release 2.8; in order to keep installing from binary please use \"pip install psycopg2-binary\" instead. For details see: <http://initd.org/psycopg/docs/install.html#binary-install-from-pypi>.\n",
      "  \"\"\")\n"
     ]
    }
   ],
   "source": [
    "import psycopg2\n",
    "import pandas as pd\n",
    "import matplotlib.pyplot as plt\n",
    "import numpy as np"
   ]
  },
  {
   "cell_type": "code",
   "execution_count": 2,
   "metadata": {},
   "outputs": [],
   "source": [
    "import pandas as pd\n",
    "data = pd.read_csv(\"survey.csv\")"
   ]
  },
  {
   "cell_type": "code",
   "execution_count": 19,
   "metadata": {},
   "outputs": [
    {
     "data": {
      "text/plain": [
       "id                                   496\n",
       "screening_site                       496\n",
       "visit_id                             496\n",
       "clinic                               496\n",
       "education                            496\n",
       "occupation                           496\n",
       "last_checkup                         496\n",
       "last_eye_exam                        496\n",
       "acknowledge_diabetes_eye_problems    496\n",
       "has_eye_problems                     496\n",
       "list_eye_problems                    496\n",
       "hypertension                         496\n",
       "diabetes_tested                      496\n",
       "family_history_diabetes              496\n",
       "diabetes_knowledge                   496\n",
       "diabetes_type                        496\n",
       "diabetes_timelength                  496\n",
       "diabetes_treatment                   496\n",
       "survey_completed_by                  496\n",
       "referred_by                          496\n",
       "created_at                           496\n",
       "updated_at                           496\n",
       "patient_id                           496\n",
       "language                             496\n",
       "other_eye_problem                    496\n",
       "last_dilated_eye_exam                496\n",
       "eye_surgery_detail                   496\n",
       "had_eye_surgery                      496\n",
       "photographer_comment                 496\n",
       "other_education                      496\n",
       "dtype: int64"
      ]
     },
     "execution_count": 19,
     "metadata": {},
     "output_type": "execute_result"
    }
   ],
   "source": [
    "data.count()"
   ]
  },
  {
   "cell_type": "code",
   "execution_count": 4,
   "metadata": {},
   "outputs": [
    {
     "data": {
      "text/plain": [
       "Index(['id', 'screening_site', 'visit_id', 'clinic', 'education', 'occupation',\n",
       "       'last_checkup', 'last_eye_exam', 'acknowledge_diabetes_eye_problems',\n",
       "       'has_eye_problems', 'list_eye_problems', 'hypertension',\n",
       "       'diabetes_tested', 'family_history_diabetes', 'diabetes_knowledge',\n",
       "       'diabetes_type', 'diabetes_timelength', 'diabetes_treatment',\n",
       "       'survey_completed_by', 'referred_by', 'created_at', 'updated_at',\n",
       "       'patient_id', 'language', 'other_eye_problem', 'last_dilated_eye_exam',\n",
       "       'eye_surgery_detail', 'had_eye_surgery', 'photographer_comment',\n",
       "       'other_education'],\n",
       "      dtype='object')"
      ]
     },
     "execution_count": 4,
     "metadata": {},
     "output_type": "execute_result"
    }
   ],
   "source": [
    "data.columns"
   ]
  },
  {
   "cell_type": "code",
   "execution_count": 5,
   "metadata": {},
   "outputs": [],
   "source": [
    "# Health info\n",
    "has_eye_problems_yes = data[(data[\"has_eye_problems\"]=='YS')]\n",
    "has_eye_problems_no = data[(data[\"has_eye_problems\"]=='NO')]\n",
    "hypertension_yes = data[(data[\"hypertension\"]=='YS')]\n",
    "hypertension_no = data[(data[\"hypertension\"]=='NO')]\n",
    "diabetes_tested_yes = data[(data[\"diabetes_tested\"]=='YS')]\n",
    "diabetes_tested_no = data[(data[\"diabetes_tested\"]=='NO')]\n",
    "diabetes_knowledge_yes = data[(data[\"diabetes_knowledge\"]=='YS')]\n",
    "diabetes_knowledge_no = data[(data[\"diabetes_knowledge\"]=='NO')]"
   ]
  },
  {
   "cell_type": "code",
   "execution_count": 7,
   "metadata": {},
   "outputs": [
    {
     "data": {
      "image/png": "[encoded data removed]",
      "text/plain": [
       "<Figure size 432x288 with 1 Axes>"
      ]
     },
     "metadata": {},
     "output_type": "display_data"
    }
   ],
   "source": [
    "# set width of bar\n",
    "barWidth = 0.25\n",
    " \n",
    "# set height of bar\n",
    "bars1 = [has_eye_problems_yes.shape[0], hypertension_yes.shape[0], diabetes_knowledge_yes.shape[0], diabetes_tested_yes.shape[0]]\n",
    "bars2 = [has_eye_problems_no.shape[0], hypertension_no.shape[0], diabetes_knowledge_no.shape[0], diabetes_tested_no.shape[0]]\n",
    " \n",
    "# Set position of bar on X axis\n",
    "r1 = np.arange(len(bars1))\n",
    "r2 = [x + barWidth for x in r1]\n",
    " \n",
    "# Make the plot\n",
    "plt.bar(r1, bars1, color='#1B998B', width=barWidth, edgecolor='white', label='Yes')\n",
    "plt.bar(r2, bars2, color='#E84855', width=barWidth, edgecolor='white', label='No')\n",
    " \n",
    "# Add xticks on the middle of the group bars\n",
    "plt.xlabel('group', fontweight='bold')\n",
    "plt.xticks([r + barWidth for r in range(len(bars1))], ['Eye problems', 'Hypertension', 'Diabetes test', 'Diabetes'])\n",
    " \n",
    "# Create legend & Show graphic\n",
    "plt.legend()\n",
    "plt.show()\n"
   ]
  },
  {
   "cell_type": "code",
   "execution_count": 35,
   "metadata": {},
   "outputs": [
    {
     "data": {
      "text/plain": [
       "id                                   148\n",
       "screening_site                       148\n",
       "visit_id                             148\n",
       "clinic                               148\n",
       "education                            148\n",
       "occupation                           148\n",
       "last_checkup                         148\n",
       "last_eye_exam                        148\n",
       "acknowledge_diabetes_eye_problems    148\n",
       "has_eye_problems                     148\n",
       "list_eye_problems                    148\n",
       "hypertension                         148\n",
       "diabetes_tested                      148\n",
       "family_history_diabetes              148\n",
       "diabetes_knowledge                   148\n",
       "diabetes_type                        148\n",
       "diabetes_timelength                  148\n",
       "diabetes_treatment                   148\n",
       "survey_completed_by                  148\n",
       "referred_by                          148\n",
       "created_at                           148\n",
       "updated_at                           148\n",
       "patient_id                           148\n",
       "language                             148\n",
       "other_eye_problem                    148\n",
       "last_dilated_eye_exam                148\n",
       "eye_surgery_detail                   148\n",
       "had_eye_surgery                      148\n",
       "photographer_comment                 148\n",
       "other_education                      148\n",
       "dtype: int64"
      ]
     },
     "execution_count": 35,
     "metadata": {},
     "output_type": "execute_result"
    }
   ],
   "source": [
    "diabetes_knowledge_yes.count()"
   ]
  },
  {
   "cell_type": "code",
   "execution_count": 8,
   "metadata": {},
   "outputs": [
    {
     "data": {
      "text/plain": [
       "array(['', 'T1', 'T2', 'T5', 'T3', 'T4'], dtype=object)"
      ]
     },
     "execution_count": 8,
     "metadata": {},
     "output_type": "execute_result"
    }
   ],
   "source": [
    "# Diabetes timelength\n",
    "data[\"diabetes_timelength\"].unique()\n"
   ]
  },
  {
   "cell_type": "code",
   "execution_count": 9,
   "metadata": {},
   "outputs": [],
   "source": [
    "t1 = data[(data[\"diabetes_timelength\"]=='T1')]\n",
    "t2 = data[(data[\"diabetes_timelength\"]=='T2')]\n",
    "t3 = data[(data[\"diabetes_timelength\"]=='T3')]\n",
    "t4 = data[(data[\"diabetes_timelength\"]=='T4')]\n",
    "t5 = data[(data[\"diabetes_timelength\"]=='T5')]"
   ]
  },
  {
   "cell_type": "code",
   "execution_count": 10,
   "metadata": {},
   "outputs": [
    {
     "data": {
      "image/png": "[encoded data removed]",
      "text/plain": [
       "<Figure size 432x288 with 1 Axes>"
      ]
     },
     "metadata": {},
     "output_type": "display_data"
    }
   ],
   "source": [
    "barWidth = 0.75\n",
    "bars1 = [t1.shape[0], t2.shape[0], t3.shape[0], t4.shape[0], t5.shape[0]]\n",
    "r1 = np.arange(len(bars1))\n",
    "plt.bar(r1, bars1, color='#4286f4', width=barWidth, edgecolor='white', label='Number of people in timeline')\n",
    "plt.xlabel('group', fontweight='bold')\n",
    "plt.xticks([r + barWidth-.75 for r in range(len(bars1))], ['0-5 yrs', '6-10 yrs', '11-15 yrs', '16-20 yrs', '>20 yrs'])\n",
    "plt.legend()\n",
    "plt.show()"
   ]
  },
  {
   "cell_type": "code",
   "execution_count": 24,
   "metadata": {},
   "outputs": [
    {
     "data": {
      "text/plain": [
       "id                                   4\n",
       "screening_site                       4\n",
       "visit_id                             4\n",
       "clinic                               4\n",
       "education                            4\n",
       "occupation                           4\n",
       "last_checkup                         4\n",
       "last_eye_exam                        4\n",
       "acknowledge_diabetes_eye_problems    4\n",
       "has_eye_problems                     4\n",
       "list_eye_problems                    4\n",
       "hypertension                         4\n",
       "diabetes_tested                      4\n",
       "family_history_diabetes              4\n",
       "diabetes_knowledge                   4\n",
       "diabetes_type                        4\n",
       "diabetes_timelength                  4\n",
       "diabetes_treatment                   4\n",
       "survey_completed_by                  4\n",
       "referred_by                          4\n",
       "created_at                           4\n",
       "updated_at                           4\n",
       "patient_id                           4\n",
       "language                             4\n",
       "other_eye_problem                    4\n",
       "last_dilated_eye_exam                4\n",
       "eye_surgery_detail                   4\n",
       "had_eye_surgery                      4\n",
       "photographer_comment                 4\n",
       "other_education                      4\n",
       "dtype: int64"
      ]
     },
     "execution_count": 24,
     "metadata": {},
     "output_type": "execute_result"
    }
   ],
   "source": [
    "t1.count()"
   ]
  },
  {
   "cell_type": "code",
   "execution_count": 11,
   "metadata": {},
   "outputs": [
    {
     "data": {
      "text/plain": [
       "array(['', 'PD', 'T2', 'DK', 'T1', 'GD'], dtype=object)"
      ]
     },
     "execution_count": 11,
     "metadata": {},
     "output_type": "execute_result"
    }
   ],
   "source": [
    "data['diabetes_type'].unique()"
   ]
  },
  {
   "cell_type": "code",
   "execution_count": 32,
   "metadata": {},
   "outputs": [],
   "source": [
    "# Diabetes Type\n",
    "t1 = data[(data[\"diabetes_type\"]=='T1')]\n",
    "t2 = data[(data[\"diabetes_type\"]=='T2')]\n",
    "prediabetes = data[(data[\"diabetes_type\"]=='PD')]\n",
    "gestational = data[(data[\"diabetes_type\"]=='GD')]\n",
    "dontknow = data[(data[\"diabetes_type\"]=='DK')]\n"
   ]
  },
  {
   "cell_type": "code",
   "execution_count": 36,
   "metadata": {},
   "outputs": [
    {
     "data": {
      "text/plain": [
       "id                                   58.783784\n",
       "screening_site                       58.783784\n",
       "visit_id                             58.783784\n",
       "clinic                               58.783784\n",
       "education                            58.783784\n",
       "occupation                           58.783784\n",
       "last_checkup                         58.783784\n",
       "last_eye_exam                        58.783784\n",
       "acknowledge_diabetes_eye_problems    58.783784\n",
       "has_eye_problems                     58.783784\n",
       "list_eye_problems                    58.783784\n",
       "hypertension                         58.783784\n",
       "diabetes_tested                      58.783784\n",
       "family_history_diabetes              58.783784\n",
       "diabetes_knowledge                   58.783784\n",
       "diabetes_type                        58.783784\n",
       "diabetes_timelength                  58.783784\n",
       "diabetes_treatment                   58.783784\n",
       "survey_completed_by                  58.783784\n",
       "referred_by                          58.783784\n",
       "created_at                           58.783784\n",
       "updated_at                           58.783784\n",
       "patient_id                           58.783784\n",
       "language                             58.783784\n",
       "other_eye_problem                    58.783784\n",
       "last_dilated_eye_exam                58.783784\n",
       "eye_surgery_detail                   58.783784\n",
       "had_eye_surgery                      58.783784\n",
       "photographer_comment                 58.783784\n",
       "other_education                      58.783784\n",
       "dtype: float64"
      ]
     },
     "execution_count": 36,
     "metadata": {},
     "output_type": "execute_result"
    }
   ],
   "source": [
    "t2.count()/148*100"
   ]
  },
  {
   "cell_type": "code",
   "execution_count": 13,
   "metadata": {},
   "outputs": [
    {
     "data": {
      "text/html": [
       "<div>\n",
       "<style scoped>\n",
       "    .dataframe tbody tr th:only-of-type {\n",
       "        vertical-align: middle;\n",
       "    }\n",
       "\n",
       "    .dataframe tbody tr th {\n",
       "        vertical-align: top;\n",
       "    }\n",
       "\n",
       "    .dataframe thead th {\n",
       "        text-align: right;\n",
       "    }\n",
       "</style>\n",
       "<table border=\"1\" class=\"dataframe\">\n",
       "  <thead>\n",
       "    <tr style=\"text-align: right;\">\n",
       "      <th></th>\n",
       "      <th>id</th>\n",
       "      <th>patient_id</th>\n",
       "    </tr>\n",
       "  </thead>\n",
       "  <tbody>\n",
       "    <tr>\n",
       "      <th>count</th>\n",
       "      <td>41.000000</td>\n",
       "      <td>41.000000</td>\n",
       "    </tr>\n",
       "    <tr>\n",
       "      <th>mean</th>\n",
       "      <td>254.414634</td>\n",
       "      <td>256.609756</td>\n",
       "    </tr>\n",
       "    <tr>\n",
       "      <th>std</th>\n",
       "      <td>142.004221</td>\n",
       "      <td>149.158285</td>\n",
       "    </tr>\n",
       "    <tr>\n",
       "      <th>min</th>\n",
       "      <td>5.000000</td>\n",
       "      <td>5.000000</td>\n",
       "    </tr>\n",
       "    <tr>\n",
       "      <th>25%</th>\n",
       "      <td>141.000000</td>\n",
       "      <td>133.000000</td>\n",
       "    </tr>\n",
       "    <tr>\n",
       "      <th>50%</th>\n",
       "      <td>248.000000</td>\n",
       "      <td>245.000000</td>\n",
       "    </tr>\n",
       "    <tr>\n",
       "      <th>75%</th>\n",
       "      <td>377.000000</td>\n",
       "      <td>393.000000</td>\n",
       "    </tr>\n",
       "    <tr>\n",
       "      <th>max</th>\n",
       "      <td>476.000000</td>\n",
       "      <td>492.000000</td>\n",
       "    </tr>\n",
       "  </tbody>\n",
       "</table>\n",
       "</div>"
      ],
      "text/plain": [
       "               id  patient_id\n",
       "count   41.000000   41.000000\n",
       "mean   254.414634  256.609756\n",
       "std    142.004221  149.158285\n",
       "min      5.000000    5.000000\n",
       "25%    141.000000  133.000000\n",
       "50%    248.000000  245.000000\n",
       "75%    377.000000  393.000000\n",
       "max    476.000000  492.000000"
      ]
     },
     "execution_count": 13,
     "metadata": {},
     "output_type": "execute_result"
    }
   ],
   "source": [
    "prediabetes.describe()"
   ]
  },
  {
   "cell_type": "code",
   "execution_count": 14,
   "metadata": {},
   "outputs": [
    {
     "data": {
      "image/png": "[encoded data removed]",
      "text/plain": [
       "<Figure size 432x288 with 1 Axes>"
      ]
     },
     "metadata": {},
     "output_type": "display_data"
    }
   ],
   "source": [
    "barWidth = 0.5\n",
    "bars1 = [t1.shape[0], t2.shape[0], prediabetes.shape[0], gestational.shape[0], dontknow.shape[0]]\n",
    "r1 = np.arange(len(bars1))\n",
    "plt.bar(r1, bars1, color='#9841f4', width=barWidth, edgecolor='white', label='Diabetes type')\n",
    "plt.xlabel('group', fontweight='bold')\n",
    "plt.xticks([r + barWidth-.5 for r in range(len(bars1))], ['Type I', 'Type II', 'Pre-diabetes', 'Gestational', \"Don't know\"])\n",
    "plt.legend()\n",
    "plt.show()"
   ]
  },
  {
   "cell_type": "code",
   "execution_count": 15,
   "metadata": {},
   "outputs": [
    {
     "data": {
      "text/plain": [
       "array(['', 'NO', 'DC', 'II', 'OP', 'OP,II', 'OP,DC', 'II,DC', 'OP,II,DC',\n",
       "       'DC,NO'], dtype=object)"
      ]
     },
     "execution_count": 15,
     "metadata": {},
     "output_type": "execute_result"
    }
   ],
   "source": [
    "data['diabetes_treatment'].unique()"
   ]
  },
  {
   "cell_type": "code",
   "execution_count": null,
   "metadata": {},
   "outputs": [],
   "source": []
  }
 ],
 "metadata": {
  "kernelspec": {
   "display_name": "Python 3",
   "language": "python",
   "name": "python3"
  },
  "language_info": {
   "codemirror_mode": {
    "name": "ipython",
    "version": 3
   },
   "file_extension": ".py",
   "mimetype": "text/x-python",
   "name": "python",
   "nbconvert_exporter": "python",
   "pygments_lexer": "ipython3",
   "version": "3.6.5"
  }
 },
 "nbformat": 4,
 "nbformat_minor": 2
}
