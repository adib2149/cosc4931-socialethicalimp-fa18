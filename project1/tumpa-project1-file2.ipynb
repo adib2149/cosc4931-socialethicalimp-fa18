{
 "cells": [
  {
   "cell_type": "code",
   "execution_count": 1,
   "metadata": {},
   "outputs": [
    {
     "name": "stderr",
     "output_type": "stream",
     "text": [
      "/anaconda3/lib/python3.6/site-packages/psycopg2/__init__.py:144: UserWarning: The psycopg2 wheel package will be renamed from release 2.8; in order to keep installing from binary please use \"pip install psycopg2-binary\" instead. For details see: <http://initd.org/psycopg/docs/install.html#binary-install-from-pypi>.\n",
      "  \"\"\")\n"
     ]
    }
   ],
   "source": [
    "import psycopg2\n",
    "import pandas as pd\n",
    "import matplotlib.pyplot as plt\n",
    "import numpy as np"
   ]
  },
  {
   "cell_type": "code",
   "execution_count": 2,
   "metadata": {},
   "outputs": [],
   "source": [
    "import pandas as pd\n",
    "data = pd.read_csv(\"patients.csv\")"
   ]
  },
  {
   "cell_type": "code",
   "execution_count": 3,
   "metadata": {},
   "outputs": [
    {
     "data": {
      "text/html": [
       "<div>\n",
       "<style scoped>\n",
       "    .dataframe tbody tr th:only-of-type {\n",
       "        vertical-align: middle;\n",
       "    }\n",
       "\n",
       "    .dataframe tbody tr th {\n",
       "        vertical-align: top;\n",
       "    }\n",
       "\n",
       "    .dataframe thead th {\n",
       "        text-align: right;\n",
       "    }\n",
       "</style>\n",
       "<table border=\"1\" class=\"dataframe\">\n",
       "  <thead>\n",
       "    <tr style=\"text-align: right;\">\n",
       "      <th></th>\n",
       "      <th>id</th>\n",
       "      <th>first_name</th>\n",
       "      <th>last_name</th>\n",
       "      <th>patient_id</th>\n",
       "      <th>old_id</th>\n",
       "      <th>date_of_birth</th>\n",
       "      <th>sex</th>\n",
       "      <th>ethnicity</th>\n",
       "      <th>country</th>\n",
       "      <th>language</th>\n",
       "      <th>...</th>\n",
       "      <th>city</th>\n",
       "      <th>state</th>\n",
       "      <th>zipcode</th>\n",
       "      <th>phone_primary</th>\n",
       "      <th>phone_secondary</th>\n",
       "      <th>email</th>\n",
       "      <th>created_at</th>\n",
       "      <th>updated_at</th>\n",
       "      <th>other_language</th>\n",
       "      <th>other_country</th>\n",
       "    </tr>\n",
       "  </thead>\n",
       "  <tbody>\n",
       "    <tr>\n",
       "      <th>0</th>\n",
       "      <td>1</td>\n",
       "      <td>Test</td>\n",
       "      <td>Salud a la Vista</td>\n",
       "      <td>AAA001</td>\n",
       "      <td>T01001</td>\n",
       "      <td>1980-12-12</td>\n",
       "      <td>F</td>\n",
       "      <td>HI</td>\n",
       "      <td>CE</td>\n",
       "      <td>SP</td>\n",
       "      <td>...</td>\n",
       "      <td>Milwaukee</td>\n",
       "      <td>WI</td>\n",
       "      <td>53226</td>\n",
       "      <td>414-955-2000</td>\n",
       "      <td></td>\n",
       "      <td></td>\n",
       "      <td>2018-01-02 16:14:16.498421+00:00</td>\n",
       "      <td>2018-01-02 16:14:16.498609+00:00</td>\n",
       "      <td></td>\n",
       "      <td></td>\n",
       "    </tr>\n",
       "    <tr>\n",
       "      <th>1</th>\n",
       "      <td>2</td>\n",
       "      <td>Jay</td>\n",
       "      <td>Test</td>\n",
       "      <td>AAA002</td>\n",
       "      <td></td>\n",
       "      <td>1981-12-12</td>\n",
       "      <td>M</td>\n",
       "      <td>WH</td>\n",
       "      <td>CE</td>\n",
       "      <td>EN</td>\n",
       "      <td>...</td>\n",
       "      <td>Milwaukee</td>\n",
       "      <td>WI</td>\n",
       "      <td>53226</td>\n",
       "      <td>414-286-8000</td>\n",
       "      <td>414-286-9000</td>\n",
       "      <td>jt@gmail.com</td>\n",
       "      <td>2018-01-08 17:22:50.984490+00:00</td>\n",
       "      <td>2018-01-08 17:23:12.306540+00:00</td>\n",
       "      <td></td>\n",
       "      <td></td>\n",
       "    </tr>\n",
       "    <tr>\n",
       "      <th>2</th>\n",
       "      <td>3</td>\n",
       "      <td>Testy</td>\n",
       "      <td>Tester</td>\n",
       "      <td>AAA003</td>\n",
       "      <td></td>\n",
       "      <td>1981-12-12</td>\n",
       "      <td>M</td>\n",
       "      <td>AS</td>\n",
       "      <td>US</td>\n",
       "      <td>EN</td>\n",
       "      <td>...</td>\n",
       "      <td>Milwaukee</td>\n",
       "      <td>WI</td>\n",
       "      <td>53212</td>\n",
       "      <td>4142223333</td>\n",
       "      <td>4142239456</td>\n",
       "      <td>ggg@hotmail.com</td>\n",
       "      <td>2018-01-16 14:55:07.237108+00:00</td>\n",
       "      <td>2018-01-16 19:59:48.990173+00:00</td>\n",
       "      <td></td>\n",
       "      <td></td>\n",
       "    </tr>\n",
       "    <tr>\n",
       "      <th>3</th>\n",
       "      <td>4</td>\n",
       "      <td>Noel</td>\n",
       "      <td>Sanchez</td>\n",
       "      <td>AAA004</td>\n",
       "      <td></td>\n",
       "      <td>1970-01-23</td>\n",
       "      <td>M</td>\n",
       "      <td>HI</td>\n",
       "      <td>ME</td>\n",
       "      <td>SP</td>\n",
       "      <td>...</td>\n",
       "      <td>Milwaukee</td>\n",
       "      <td>WI</td>\n",
       "      <td>53204</td>\n",
       "      <td>414-218-2371</td>\n",
       "      <td></td>\n",
       "      <td></td>\n",
       "      <td>2018-01-17 21:49:38.900565+00:00</td>\n",
       "      <td>2018-01-17 21:49:38.900615+00:00</td>\n",
       "      <td></td>\n",
       "      <td></td>\n",
       "    </tr>\n",
       "    <tr>\n",
       "      <th>4</th>\n",
       "      <td>5</td>\n",
       "      <td>Rosa</td>\n",
       "      <td>Hernandez</td>\n",
       "      <td>AAA005</td>\n",
       "      <td></td>\n",
       "      <td>1965-08-29</td>\n",
       "      <td>F</td>\n",
       "      <td>HI</td>\n",
       "      <td>ME</td>\n",
       "      <td>SP</td>\n",
       "      <td>...</td>\n",
       "      <td>Milwaukee</td>\n",
       "      <td>WI</td>\n",
       "      <td>53204</td>\n",
       "      <td>414-779-9226</td>\n",
       "      <td></td>\n",
       "      <td></td>\n",
       "      <td>2018-01-17 21:55:42.902499+00:00</td>\n",
       "      <td>2018-01-17 21:55:42.902543+00:00</td>\n",
       "      <td></td>\n",
       "      <td></td>\n",
       "    </tr>\n",
       "  </tbody>\n",
       "</table>\n",
       "<p>5 rows × 23 columns</p>\n",
       "</div>"
      ],
      "text/plain": [
       "   id first_name         last_name patient_id  old_id date_of_birth sex  \\\n",
       "0   1       Test  Salud a la Vista     AAA001  T01001    1980-12-12   F   \n",
       "1   2        Jay              Test     AAA002            1981-12-12   M   \n",
       "2   3      Testy            Tester     AAA003            1981-12-12   M   \n",
       "3   4       Noel           Sanchez     AAA004            1970-01-23   M   \n",
       "4   5       Rosa         Hernandez     AAA005            1965-08-29   F   \n",
       "\n",
       "  ethnicity country language      ...            city state zipcode  \\\n",
       "0        HI      CE       SP      ...       Milwaukee    WI   53226   \n",
       "1        WH      CE       EN      ...       Milwaukee    WI   53226   \n",
       "2        AS      US       EN      ...       Milwaukee    WI   53212   \n",
       "3        HI      ME       SP      ...       Milwaukee    WI   53204   \n",
       "4        HI      ME       SP      ...       Milwaukee    WI   53204   \n",
       "\n",
       "  phone_primary phone_secondary            email  \\\n",
       "0  414-955-2000                                    \n",
       "1  414-286-8000    414-286-9000     jt@gmail.com   \n",
       "2    4142223333      4142239456  ggg@hotmail.com   \n",
       "3  414-218-2371                                    \n",
       "4  414-779-9226                                    \n",
       "\n",
       "                        created_at                       updated_at  \\\n",
       "0 2018-01-02 16:14:16.498421+00:00 2018-01-02 16:14:16.498609+00:00   \n",
       "1 2018-01-08 17:22:50.984490+00:00 2018-01-08 17:23:12.306540+00:00   \n",
       "2 2018-01-16 14:55:07.237108+00:00 2018-01-16 19:59:48.990173+00:00   \n",
       "3 2018-01-17 21:49:38.900565+00:00 2018-01-17 21:49:38.900615+00:00   \n",
       "4 2018-01-17 21:55:42.902499+00:00 2018-01-17 21:55:42.902543+00:00   \n",
       "\n",
       "  other_language other_country  \n",
       "0                               \n",
       "1                               \n",
       "2                               \n",
       "3                               \n",
       "4                               \n",
       "\n",
       "[5 rows x 23 columns]"
      ]
     },
     "execution_count": 3,
     "metadata": {},
     "output_type": "execute_result"
    }
   ],
   "source": [
    "data.head(5)"
   ]
  },
  {
   "cell_type": "code",
   "execution_count": 4,
   "metadata": {},
   "outputs": [],
   "source": [
    "#drop test inputs\n",
    "data = data.drop(data[data['first_name' ].str.contains('Test')].index)\n",
    "data = data.drop(data[data['first_name' ].str.contains('test2')].index)\n",
    "data = data.drop(data[data['last_name' ].str.contains('Test')].index)\n",
    "data.reset_index(drop=True,inplace=True)"
   ]
  },
  {
   "cell_type": "code",
   "execution_count": 5,
   "metadata": {},
   "outputs": [],
   "source": [
    "data.drop(data.columns[[0, 1,2,4,11,12,13,14,15,16,17,18,19,20,22]], axis=1, inplace=True)"
   ]
  },
  {
   "cell_type": "code",
   "execution_count": 6,
   "metadata": {},
   "outputs": [
    {
     "data": {
      "text/html": [
       "<div>\n",
       "<style scoped>\n",
       "    .dataframe tbody tr th:only-of-type {\n",
       "        vertical-align: middle;\n",
       "    }\n",
       "\n",
       "    .dataframe tbody tr th {\n",
       "        vertical-align: top;\n",
       "    }\n",
       "\n",
       "    .dataframe thead th {\n",
       "        text-align: right;\n",
       "    }\n",
       "</style>\n",
       "<table border=\"1\" class=\"dataframe\">\n",
       "  <thead>\n",
       "    <tr style=\"text-align: right;\">\n",
       "      <th></th>\n",
       "      <th>patient_id</th>\n",
       "      <th>date_of_birth</th>\n",
       "      <th>sex</th>\n",
       "      <th>ethnicity</th>\n",
       "      <th>country</th>\n",
       "      <th>language</th>\n",
       "      <th>insurance</th>\n",
       "      <th>other_language</th>\n",
       "    </tr>\n",
       "  </thead>\n",
       "  <tbody>\n",
       "    <tr>\n",
       "      <th>0</th>\n",
       "      <td>AAA004</td>\n",
       "      <td>1970-01-23</td>\n",
       "      <td>M</td>\n",
       "      <td>HI</td>\n",
       "      <td>ME</td>\n",
       "      <td>SP</td>\n",
       "      <td>NO</td>\n",
       "      <td></td>\n",
       "    </tr>\n",
       "    <tr>\n",
       "      <th>1</th>\n",
       "      <td>AAA005</td>\n",
       "      <td>1965-08-29</td>\n",
       "      <td>F</td>\n",
       "      <td>HI</td>\n",
       "      <td>ME</td>\n",
       "      <td>SP</td>\n",
       "      <td>NO</td>\n",
       "      <td></td>\n",
       "    </tr>\n",
       "    <tr>\n",
       "      <th>2</th>\n",
       "      <td>AAA006</td>\n",
       "      <td>1996-07-16</td>\n",
       "      <td>M</td>\n",
       "      <td>BL</td>\n",
       "      <td>US</td>\n",
       "      <td>EN</td>\n",
       "      <td>NO</td>\n",
       "      <td></td>\n",
       "    </tr>\n",
       "    <tr>\n",
       "      <th>3</th>\n",
       "      <td>AAA007</td>\n",
       "      <td>1970-01-28</td>\n",
       "      <td>M</td>\n",
       "      <td>BL</td>\n",
       "      <td>US</td>\n",
       "      <td>EN</td>\n",
       "      <td>NO</td>\n",
       "      <td></td>\n",
       "    </tr>\n",
       "    <tr>\n",
       "      <th>4</th>\n",
       "      <td>AAA039</td>\n",
       "      <td>1953-07-11</td>\n",
       "      <td>M</td>\n",
       "      <td>WH</td>\n",
       "      <td>US</td>\n",
       "      <td>EN</td>\n",
       "      <td>IN</td>\n",
       "      <td></td>\n",
       "    </tr>\n",
       "  </tbody>\n",
       "</table>\n",
       "</div>"
      ],
      "text/plain": [
       "  patient_id date_of_birth sex ethnicity country language insurance  \\\n",
       "0     AAA004    1970-01-23   M        HI      ME       SP        NO   \n",
       "1     AAA005    1965-08-29   F        HI      ME       SP        NO   \n",
       "2     AAA006    1996-07-16   M        BL      US       EN        NO   \n",
       "3     AAA007    1970-01-28   M        BL      US       EN        NO   \n",
       "4     AAA039    1953-07-11   M        WH      US       EN        IN   \n",
       "\n",
       "  other_language  \n",
       "0                 \n",
       "1                 \n",
       "2                 \n",
       "3                 \n",
       "4                 "
      ]
     },
     "execution_count": 6,
     "metadata": {},
     "output_type": "execute_result"
    }
   ],
   "source": [
    "data.head()"
   ]
  },
  {
   "cell_type": "code",
   "execution_count": 7,
   "metadata": {},
   "outputs": [],
   "source": [
    "# Gender Analysis\n",
    "male = data[(data[\"sex\"]=='M')]\n",
    "female = data[(data[\"sex\"]=='F')]"
   ]
  },
  {
   "cell_type": "code",
   "execution_count": 39,
   "metadata": {},
   "outputs": [
    {
     "data": {
      "text/plain": [
       "patient_id        209\n",
       "date_of_birth     209\n",
       "sex               209\n",
       "ethnicity         209\n",
       "country           209\n",
       "language          209\n",
       "insurance         209\n",
       "other_language    209\n",
       "dtype: int64"
      ]
     },
     "execution_count": 39,
     "metadata": {},
     "output_type": "execute_result"
    }
   ],
   "source": [
    "male.count()"
   ]
  },
  {
   "cell_type": "code",
   "execution_count": 17,
   "metadata": {},
   "outputs": [
    {
     "data": {
      "text/plain": [
       "<matplotlib.axes._subplots.AxesSubplot at 0x117548550>"
      ]
     },
     "execution_count": 17,
     "metadata": {},
     "output_type": "execute_result"
    },
    {
     "data": {
      "image/png": "[encoded data removed]",
      "text/plain": [
       "<Figure size 360x360 with 1 Axes>"
      ]
     },
     "metadata": {},
     "output_type": "display_data"
    }
   ],
   "source": [
    "sex_data = pd.DataFrame({'count': [male.shape[0], female.shape[0]]}, index=['Male', 'Female'])\n",
    "sex_data.plot.pie(y='count', figsize=(5, 5), legend=False)"
   ]
  },
  {
   "cell_type": "code",
   "execution_count": 18,
   "metadata": {},
   "outputs": [],
   "source": [
    "# Analyzing Ethnicity\n",
    "hispanic = data[(data[\"ethnicity\"]=='HI')]\n",
    "white = data[(data[\"ethnicity\"]=='WH')]\n",
    "black = data[(data[\"ethnicity\"]=='BL')]\n",
    "native = data[(data[\"ethnicity\"]=='NA')]\n",
    "asian = data[(data[\"ethnicity\"]=='AS')]\n",
    "other = data[(data[\"ethnicity\"]=='OT')]"
   ]
  },
  {
   "cell_type": "code",
   "execution_count": 49,
   "metadata": {},
   "outputs": [
    {
     "data": {
      "text/plain": [
       "patient_id        12.096774\n",
       "date_of_birth     12.096774\n",
       "sex               12.096774\n",
       "ethnicity         12.096774\n",
       "country           12.096774\n",
       "language          12.096774\n",
       "insurance         12.096774\n",
       "other_language    12.096774\n",
       "age               12.096774\n",
       "dtype: float64"
      ]
     },
     "execution_count": 49,
     "metadata": {},
     "output_type": "execute_result"
    }
   ],
   "source": [
    "#black.count()/496*100\n",
    "other.count()/496*100"
   ]
  },
  {
   "cell_type": "code",
   "execution_count": 43,
   "metadata": {},
   "outputs": [
    {
     "data": {
      "text/plain": [
       "<matplotlib.axes._subplots.AxesSubplot at 0x118787978>"
      ]
     },
     "execution_count": 43,
     "metadata": {},
     "output_type": "execute_result"
    },
    {
     "data": {
      "image/png": "[encoded data removed]",
      "text/plain": [
       "<Figure size 720x720 with 1 Axes>"
      ]
     },
     "metadata": {},
     "output_type": "display_data"
    }
   ],
   "source": [
    "pd.DataFrame({'count': [hispanic.shape[0], white.shape[0],black.shape[0],native.shape[0],asian.shape[0],other.shape[0]]}, index=['Hispanic', 'White','African American','Native American','Asian','Other']).plot.pie(y='count', figsize=(10,10), legend=False)"
   ]
  },
  {
   "cell_type": "code",
   "execution_count": 22,
   "metadata": {},
   "outputs": [
    {
     "data": {
      "text/plain": [
       "<matplotlib.axes._subplots.AxesSubplot at 0x117c29f60>"
      ]
     },
     "execution_count": 22,
     "metadata": {},
     "output_type": "execute_result"
    },
    {
     "data": {
      "image/png": "[encoded data removed]",
      "text/plain": [
       "<Figure size 360x360 with 1 Axes>"
      ]
     },
     "metadata": {},
     "output_type": "display_data"
    }
   ],
   "source": [
    "# # Language\n",
    "english = data[(data[\"language\"]=='EN')]\n",
    "spanish = data[(data[\"language\"]=='SP')]\n",
    "both = data[(data[\"language\"]=='BT')]\n",
    "other = data[(data[\"language\"]=='OT')]\n",
    "pd.DataFrame({'count': [english.shape[0], spanish.shape[0],both.shape[0],other.shape[0]]}, index=['English', 'Spanish','Both','Other']).plot.pie(y='count', figsize=(5,5), legend=False)"
   ]
  },
  {
   "cell_type": "code",
   "execution_count": 54,
   "metadata": {},
   "outputs": [
    {
     "data": {
      "text/plain": [
       "patient_id        12.096774\n",
       "date_of_birth     12.096774\n",
       "sex               12.096774\n",
       "ethnicity         12.096774\n",
       "country           12.096774\n",
       "language          12.096774\n",
       "insurance         12.096774\n",
       "other_language    12.096774\n",
       "age               12.096774\n",
       "dtype: float64"
      ]
     },
     "execution_count": 54,
     "metadata": {},
     "output_type": "execute_result"
    }
   ],
   "source": [
    "other.count()/496*100"
   ]
  },
  {
   "cell_type": "code",
   "execution_count": 12,
   "metadata": {},
   "outputs": [
    {
     "data": {
      "image/png": "[encoded data removed]",
      "text/plain": [
       "<Figure size 432x288 with 1 Axes>"
      ]
     },
     "metadata": {},
     "output_type": "display_data"
    }
   ],
   "source": [
    "# Age distribution\n",
    "from datetime import datetime\n",
    "from dateutil.parser import parse\n",
    "old=0\n",
    "for i in range(0,data['date_of_birth'].count()):\n",
    "    data['date_of_birth'][i] = datetime.strptime(str(data['date_of_birth'][i]), '%Y-%m-%d')\n",
    "    data[\"date_of_birth\"][i] = pd.to_datetime('today').year - pd.to_datetime(data['date_of_birth'][i]).year\n",
    "data['age']= data['date_of_birth'].astype(int)\n",
    "\n",
    "bins = [x*5 for x in range(0, 20)] # results in 15, 20, ... 85, 90\n",
    "plt.hist(data['age'], bins=bins, edgecolor=\"k\")\n",
    "plt.xticks(bins)\n",
    "plt.show()"
   ]
  },
  {
   "cell_type": "code",
   "execution_count": 23,
   "metadata": {},
   "outputs": [],
   "source": [
    "# Insurance Status\n",
    "medicare = data[(data[\"insurance\"]=='ME')]\n",
    "medicaid = data[(data[\"insurance\"]=='MD')]\n",
    "medicare_medicaid = data[(data[\"insurance\"]=='MM')]\n",
    "private = data[(data[\"insurance\"]=='PR')]\n",
    "other_insurance = data[(data[\"insurance\"]=='OT')]\n",
    "no_insurance = data[(data[\"insurance\"]=='NO')]"
   ]
  },
  {
   "cell_type": "code",
   "execution_count": 59,
   "metadata": {},
   "outputs": [
    {
     "data": {
      "text/plain": [
       "patient_id        21.169355\n",
       "date_of_birth     21.169355\n",
       "sex               21.169355\n",
       "ethnicity         21.169355\n",
       "country           21.169355\n",
       "language          21.169355\n",
       "insurance         21.169355\n",
       "other_language    21.169355\n",
       "age               21.169355\n",
       "dtype: float64"
      ]
     },
     "execution_count": 59,
     "metadata": {},
     "output_type": "execute_result"
    }
   ],
   "source": [
    "private.count()/496*100"
   ]
  },
  {
   "cell_type": "code",
   "execution_count": 24,
   "metadata": {},
   "outputs": [
    {
     "data": {
      "text/plain": [
       "<matplotlib.axes._subplots.AxesSubplot at 0x117c5be48>"
      ]
     },
     "execution_count": 24,
     "metadata": {},
     "output_type": "execute_result"
    },
    {
     "data": {
      "image/png": "[encoded data removed]",
      "text/plain": [
       "<Figure size 504x504 with 1 Axes>"
      ]
     },
     "metadata": {},
     "output_type": "display_data"
    }
   ],
   "source": [
    "pd.DataFrame({'count': [medicare.shape[0], medicaid.shape[0],medicare_medicaid.shape[0],private.shape[0],other_insurance.shape[0],no_insurance.shape[0]]}, index=['Medicare', 'Medicaid','Medicare and Medicaid','Private','Other','No insurance']).plot.pie(y='count', figsize=(7,7), legend=False)\n"
   ]
  }
 ],
 "metadata": {
  "kernelspec": {
   "display_name": "Python 3",
   "language": "python",
   "name": "python3"
  },
  "language_info": {
   "codemirror_mode": {
    "name": "ipython",
    "version": 3
   },
   "file_extension": ".py",
   "mimetype": "text/x-python",
   "name": "python",
   "nbconvert_exporter": "python",
   "pygments_lexer": "ipython3",
   "version": "3.6.5"
  }
 },
 "nbformat": 4,
 "nbformat_minor": 2
}
